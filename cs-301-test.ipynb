{
 "cells": [
  {
   "cell_type": "code",
   "execution_count": 1,
   "metadata": {
    "execution": {
     "iopub.execute_input": "2022-01-15T08:36:01.359632Z",
     "iopub.status.busy": "2022-01-15T08:36:01.359632Z",
     "iopub.status.idle": "2022-01-15T08:36:02.524900Z",
     "shell.execute_reply": "2022-01-15T08:36:02.523850Z"
    }
   },
   "outputs": [
    {
     "data": {
      "text/plain": [
       "{'nm0000131': 'John Cusack',\n",
       " 'nm0000154': 'Mel Gibson',\n",
       " 'nm0000163': 'Dustin Hoffman',\n",
       " 'nm0000418': 'Danny Glover',\n",
       " 'nm0000432': 'Gene Hackman',\n",
       " 'nm0000997': 'Gary Busey',\n",
       " 'nm0001149': 'Richard Donner',\n",
       " 'nm0001219': 'Gary Fleder',\n",
       " 'nm0752751': 'Mitchell Ryan',\n",
       " 'tt0313542': 'Runaway Jury',\n",
       " 'tt0093409': 'Lethal Weapon'}"
      ]
     },
     "execution_count": 1,
     "metadata": {},
     "output_type": "execute_result"
    }
   ],
   "source": [
    "#q1\n",
    "import numpy as np\n",
    "import pandas as pd\n",
    "import json\n",
    "import matplotlib.pyplot as plt\n",
    "import seaborn as sns\n",
    "import csv\n",
    "def get_mapping(path):\n",
    "    with open(path, mode='r') as inp:\n",
    "        reader = csv.reader(inp)\n",
    "        d= {rows[0]:rows[1] for rows in reader}\n",
    "    return d\n",
    "dic = get_mapping(\"small_mapping.csv\")\n",
    "get_mapping(\"small_mapping.csv\")\n"
   ]
  },
  {
   "cell_type": "code",
   "execution_count": 2,
   "metadata": {
    "execution": {
     "iopub.execute_input": "2022-01-15T08:36:02.526892Z",
     "iopub.status.busy": "2022-01-15T08:36:02.526892Z",
     "iopub.status.idle": "2022-01-15T08:36:02.529916Z",
     "shell.execute_reply": "2022-01-15T08:36:02.529916Z"
    },
    "scrolled": true
   },
   "outputs": [
    {
     "data": {
      "text/plain": [
       "'Runaway Jury'"
      ]
     },
     "execution_count": 1,
     "metadata": {},
     "output_type": "execute_result"
    }
   ],
   "source": [
    "#q2\n",
    "(dic['tt0313542'])"
   ]
  },
  {
   "cell_type": "code",
   "execution_count": 3,
   "metadata": {
    "execution": {
     "iopub.execute_input": "2022-01-15T08:36:02.533824Z",
     "iopub.status.busy": "2022-01-15T08:36:02.532871Z",
     "iopub.status.idle": "2022-01-15T08:36:02.536817Z",
     "shell.execute_reply": "2022-01-15T08:36:02.536817Z"
    },
    "scrolled": true
   },
   "outputs": [
    {
     "data": {
      "text/plain": [
       "['Runaway Jury', 'Lethal Weapon']"
      ]
     },
     "execution_count": 1,
     "metadata": {},
     "output_type": "execute_result"
    }
   ],
   "source": [
    "#q3\n",
    "list1 = []          ## 空列表\n",
    "for key in dic.keys():\n",
    "    if ( \"tt\" in key) :\n",
    "        list1.append(str(dic[key]))\n",
    "list1"
   ]
  },
  {
   "cell_type": "code",
   "execution_count": 4,
   "metadata": {
    "execution": {
     "iopub.execute_input": "2022-01-15T08:36:02.539851Z",
     "iopub.status.busy": "2022-01-15T08:36:02.539851Z",
     "iopub.status.idle": "2022-01-15T08:36:02.542838Z",
     "shell.execute_reply": "2022-01-15T08:36:02.542838Z"
    }
   },
   "outputs": [
    {
     "data": {
      "text/plain": [
       "['nm0000997', 'nm0001219']"
      ]
     },
     "execution_count": 1,
     "metadata": {},
     "output_type": "execute_result"
    }
   ],
   "source": [
    "#q4\n",
    "list2 = []\n",
    "for k, v in dic.items():\n",
    "    if(\"Gary \" in v) :\n",
    "        list2.append(str(k))\n",
    "list2\n"
   ]
  },
  {
   "cell_type": "code",
   "execution_count": 5,
   "metadata": {
    "execution": {
     "iopub.execute_input": "2022-01-15T08:36:02.548785Z",
     "iopub.status.busy": "2022-01-15T08:36:02.548785Z",
     "iopub.status.idle": "2022-01-15T08:36:02.553812Z",
     "shell.execute_reply": "2022-01-15T08:36:02.553812Z"
    }
   },
   "outputs": [
    {
     "data": {
      "text/plain": [
       "[{'title': 'tt0313542',\n",
       "  'year': 2003,\n",
       "  'rating': 7.1,\n",
       "  'directors': ['nm0001219'],\n",
       "  'actors': ['nm0000131', 'nm0000432', 'nm0000163'],\n",
       "  'genres': ['Crime', 'Drama', 'Thriller']},\n",
       " {'title': 'tt0093409',\n",
       "  'year': 1987,\n",
       "  'rating': 7.6,\n",
       "  'directors': ['nm0001149'],\n",
       "  'actors': ['nm0000154', 'nm0000418', 'nm0000997', 'nm0752751'],\n",
       "  'genres': ['Action', 'Crime', 'Thriller']}]"
      ]
     },
     "execution_count": 1,
     "metadata": {},
     "output_type": "execute_result"
    }
   ],
   "source": [
    "#q5\n",
    "import csv\n",
    "def get_raw_movies(path):\n",
    "    list1 = []\n",
    "    with open(path,'r',encoding=\"utf-8\") as f:\n",
    "        reader = csv.reader(f)\n",
    "        fieldnames = next(reader)#获取数据的第一列，作为后续要转为字典的键名 生成器，next方法获取\n",
    "        # print(fieldnames)\n",
    "        csv_reader = csv.DictReader(f,fieldnames=fieldnames) #self._fieldnames = fieldnames   # list of keys for the dict 以list的形式存放键名\n",
    "        for row in csv_reader:\n",
    "            d={}\n",
    "            for k,v in row.items():\n",
    "                if k == \"directors\":\n",
    "                    list2 = []\n",
    "                    str3 = v\n",
    "                    list2 = str3.split(\",\")\n",
    "                    d[k]=list2   \n",
    "                elif k == \"actors\":\n",
    "                    list2 = []\n",
    "                    str3 = v\n",
    "                    list2 = str3.split(\",\")\n",
    "                    d[k] = list2\n",
    "                elif k == \"genres\":\n",
    "                    list2 = []\n",
    "                    str3 = v\n",
    "                    list2 = str3.split(\",\")\n",
    "                    d[k] = list2\n",
    "                elif k == \"year\":\n",
    "                    d[k] = int(v)     \n",
    "                elif k ==\"rating\":\n",
    "                    d[k] = float(v)\n",
    "                else:\n",
    "                    d[k]=v\n",
    "            list1.append(d)\n",
    "    return list1\n",
    "lis = get_raw_movies(\"small_movies.csv\")\n",
    "get_raw_movies(\"small_movies.csv\")\n",
    "   "
   ]
  },
  {
   "cell_type": "code",
   "execution_count": 6,
   "metadata": {
    "execution": {
     "iopub.execute_input": "2022-01-15T08:36:02.556807Z",
     "iopub.status.busy": "2022-01-15T08:36:02.556807Z",
     "iopub.status.idle": "2022-01-15T08:36:02.560102Z",
     "shell.execute_reply": "2022-01-15T08:36:02.559060Z"
    }
   },
   "outputs": [
    {
     "data": {
      "text/plain": [
       "3"
      ]
     },
     "execution_count": 1,
     "metadata": {},
     "output_type": "execute_result"
    }
   ],
   "source": [
    "#q6\n",
    "res = lis[0]\n",
    "res1 = res['genres']\n",
    "len(res1)"
   ]
  },
  {
   "cell_type": "code",
   "execution_count": 7,
   "metadata": {
    "execution": {
     "iopub.execute_input": "2022-01-15T08:36:02.562054Z",
     "iopub.status.busy": "2022-01-15T08:36:02.562054Z",
     "iopub.status.idle": "2022-01-15T08:36:02.565046Z",
     "shell.execute_reply": "2022-01-15T08:36:02.565046Z"
    }
   },
   "outputs": [
    {
     "data": {
      "text/plain": [
       "'nm0752751'"
      ]
     },
     "execution_count": 1,
     "metadata": {},
     "output_type": "execute_result"
    }
   ],
   "source": [
    "#q7\n",
    "res = lis[1]\n",
    "res1 = res['actors']\n",
    "res1[-1]\n"
   ]
  },
  {
   "cell_type": "code",
   "execution_count": 8,
   "metadata": {
    "execution": {
     "iopub.execute_input": "2022-01-15T08:36:02.569079Z",
     "iopub.status.busy": "2022-01-15T08:36:02.569079Z",
     "iopub.status.idle": "2022-01-15T08:36:02.573068Z",
     "shell.execute_reply": "2022-01-15T08:36:02.572028Z"
    }
   },
   "outputs": [],
   "source": [
    "def get_movies(movies_path, mapping_path):\n",
    "    mapping = get_mapping(mapping_path)\n",
    "    list1 = get_raw_movies(movies_path)\n",
    "    for item in list1:\n",
    "        for key in item:\n",
    "            if key == \"title\":\n",
    "                for k,v in mapping.items():\n",
    "                    if item[key] == k:\n",
    "                        item[key] = v\n",
    "            elif key == \"directors\" or key == \"actors\" :\n",
    "                len1 = len(item[key])\n",
    "                #print(len1)\n",
    "                i = 0\n",
    "                for it in item[key]:\n",
    "                    for k,v in mapping.items():\n",
    "                        if it == k:\n",
    "                            item[key].append(v)\n",
    "                del item[key][0:len1]\n",
    "    return list1\n",
    "\n",
    "small = get_movies(\"small_movies.csv\", \"small_mapping.csv\")\n"
   ]
  },
  {
   "cell_type": "code",
   "execution_count": 9,
   "metadata": {
    "execution": {
     "iopub.execute_input": "2022-01-15T08:36:02.575024Z",
     "iopub.status.busy": "2022-01-15T08:36:02.575024Z",
     "iopub.status.idle": "2022-01-15T08:36:02.577014Z",
     "shell.execute_reply": "2022-01-15T08:36:02.577014Z"
    }
   },
   "outputs": [
    {
     "data": {
      "text/plain": [
       "'Runaway Jury'"
      ]
     },
     "execution_count": 1,
     "metadata": {},
     "output_type": "execute_result"
    }
   ],
   "source": [
    "#q8\n",
    "small[0][\"title\"]"
   ]
  },
  {
   "cell_type": "code",
   "execution_count": 10,
   "metadata": {
    "execution": {
     "iopub.execute_input": "2022-01-15T08:36:02.580035Z",
     "iopub.status.busy": "2022-01-15T08:36:02.579053Z",
     "iopub.status.idle": "2022-01-15T08:36:02.583050Z",
     "shell.execute_reply": "2022-01-15T08:36:02.583050Z"
    }
   },
   "outputs": [
    {
     "data": {
      "text/plain": [
       "['Richard Donner']"
      ]
     },
     "execution_count": 1,
     "metadata": {},
     "output_type": "execute_result"
    }
   ],
   "source": [
    "#q9\n",
    "small[1][\"directors\"]"
   ]
  },
  {
   "cell_type": "code",
   "execution_count": 11,
   "metadata": {
    "execution": {
     "iopub.execute_input": "2022-01-15T08:36:02.586031Z",
     "iopub.status.busy": "2022-01-15T08:36:02.585036Z",
     "iopub.status.idle": "2022-01-15T08:36:02.588982Z",
     "shell.execute_reply": "2022-01-15T08:36:02.588982Z"
    }
   },
   "outputs": [
    {
     "data": {
      "text/plain": [
       "['Mel Gibson', 'Danny Glover', 'Gary Busey', 'Mitchell Ryan']"
      ]
     },
     "execution_count": 1,
     "metadata": {},
     "output_type": "execute_result"
    }
   ],
   "source": [
    "#q10\n",
    "small[-1][\"actors\"]"
   ]
  },
  {
   "cell_type": "code",
   "execution_count": 12,
   "metadata": {
    "execution": {
     "iopub.execute_input": "2022-01-15T08:36:02.591974Z",
     "iopub.status.busy": "2022-01-15T08:36:02.591974Z",
     "iopub.status.idle": "2022-01-15T08:36:02.595963Z",
     "shell.execute_reply": "2022-01-15T08:36:02.594966Z"
    }
   },
   "outputs": [
    {
     "data": {
      "text/plain": [
       "[{'title': 'Runaway Jury',\n",
       "  'year': 2003,\n",
       "  'rating': 7.1,\n",
       "  'directors': ['Gary Fleder'],\n",
       "  'actors': ['John Cusack', 'Gene Hackman', 'Dustin Hoffman'],\n",
       "  'genres': ['Crime', 'Drama', 'Thriller']},\n",
       " {'title': 'Lethal Weapon',\n",
       "  'year': 1987,\n",
       "  'rating': 7.6,\n",
       "  'directors': ['Richard Donner'],\n",
       "  'actors': ['Mel Gibson', 'Danny Glover', 'Gary Busey', 'Mitchell Ryan'],\n",
       "  'genres': ['Action', 'Crime', 'Thriller']}]"
      ]
     },
     "execution_count": 1,
     "metadata": {},
     "output_type": "execute_result"
    }
   ],
   "source": [
    "#q11\n",
    "small"
   ]
  },
  {
   "cell_type": "code",
   "execution_count": 13,
   "metadata": {
    "execution": {
     "iopub.execute_input": "2022-01-15T08:36:02.598955Z",
     "iopub.status.busy": "2022-01-15T08:36:02.597958Z",
     "iopub.status.idle": "2022-01-15T08:36:07.651704Z",
     "shell.execute_reply": "2022-01-15T08:36:07.651704Z"
    }
   },
   "outputs": [],
   "source": [
    "movies = get_movies(\"movies.csv\", \"mapping.csv\")"
   ]
  },
  {
   "cell_type": "code",
   "execution_count": 14,
   "metadata": {
    "execution": {
     "iopub.execute_input": "2022-01-15T08:36:07.654651Z",
     "iopub.status.busy": "2022-01-15T08:36:07.654651Z",
     "iopub.status.idle": "2022-01-15T08:36:07.656645Z",
     "shell.execute_reply": "2022-01-15T08:36:07.656645Z"
    }
   },
   "outputs": [
    {
     "data": {
      "text/plain": [
       "[{'title': 'The Big Wedding',\n",
       "  'year': 2013,\n",
       "  'rating': 5.6,\n",
       "  'directors': ['Justin Zackham'],\n",
       "  'actors': ['Robert De Niro'],\n",
       "  'genres': ['Comedy', 'Drama', 'Romance']},\n",
       " {'title': 'The Affair of the Necklace',\n",
       "  'year': 2001,\n",
       "  'rating': 6.1,\n",
       "  'directors': ['Charles Shyer'],\n",
       "  'actors': ['Simon Baker', 'Jonathan Pryce', 'Adrien Brody'],\n",
       "  'genres': ['Drama', 'History', 'Romance']},\n",
       " {'title': 'The Barefoot Executive',\n",
       "  'year': 1971,\n",
       "  'rating': 6.0,\n",
       "  'directors': ['Robert Butler'],\n",
       "  'actors': ['Kurt Russell', 'Joe Flynn', 'Harry Morgan', 'Wally Cox'],\n",
       "  'genres': ['Comedy', 'Family']}]"
      ]
     },
     "execution_count": 1,
     "metadata": {},
     "output_type": "execute_result"
    }
   ],
   "source": [
    "#q12\n",
    "movies[0:3]"
   ]
  },
  {
   "cell_type": "code",
   "execution_count": 15,
   "metadata": {
    "execution": {
     "iopub.execute_input": "2022-01-15T08:36:07.659638Z",
     "iopub.status.busy": "2022-01-15T08:36:07.659638Z",
     "iopub.status.idle": "2022-01-15T08:36:07.664724Z",
     "shell.execute_reply": "2022-01-15T08:36:07.664724Z"
    }
   },
   "outputs": [
    {
     "data": {
      "text/plain": [
       "[{'title': 'Fortitude and Glory: Angelo Dundee and His Fighters',\n",
       "  'year': 2012,\n",
       "  'rating': 7.2,\n",
       "  'directors': ['Chris Tasara'],\n",
       "  'actors': ['Angelo Dundee', 'George Foreman', 'Freddie Roach'],\n",
       "  'genres': ['Sport']},\n",
       " {'title': 'Ivanhoe',\n",
       "  'year': 1952,\n",
       "  'rating': 6.8,\n",
       "  'directors': ['Richard Thorpe'],\n",
       "  'actors': ['Robert Taylor', 'George Sanders'],\n",
       "  'genres': ['Adventure', 'Drama', 'History']},\n",
       " {'title': 'The Great Gatsby',\n",
       "  'year': 1949,\n",
       "  'rating': 6.6,\n",
       "  'directors': ['Elliott Nugent'],\n",
       "  'actors': ['Alan Ladd', 'Macdonald Carey'],\n",
       "  'genres': ['Drama']}]"
      ]
     },
     "execution_count": 1,
     "metadata": {},
     "output_type": "execute_result"
    }
   ],
   "source": [
    "#q13\n",
    "movies[-3:]"
   ]
  },
  {
   "cell_type": "code",
   "execution_count": 16,
   "metadata": {
    "execution": {
     "iopub.execute_input": "2022-01-15T08:36:07.667667Z",
     "iopub.status.busy": "2022-01-15T08:36:07.667667Z",
     "iopub.status.idle": "2022-01-15T08:36:07.669711Z",
     "shell.execute_reply": "2022-01-15T08:36:07.669711Z"
    }
   },
   "outputs": [],
   "source": [
    "# you are not allowed to change this function\n",
    "def filter_movies_by_year(movies, year):\n",
    "    i = 0\n",
    "    list1 = []\n",
    "    while i < len(movies):\n",
    "        if movies[i][\"year\"] != year:     \n",
    "            i = i+1\n",
    "        else:\n",
    "            list1.append(movies[i])\n",
    "            #print(movies[i][\"directors\"])\n",
    "            i += 1\n",
    "    \n",
    "    return list1"
   ]
  },
  {
   "cell_type": "code",
   "execution_count": 17,
   "metadata": {
    "execution": {
     "iopub.execute_input": "2022-01-15T08:36:07.673693Z",
     "iopub.status.busy": "2022-01-15T08:36:07.672695Z",
     "iopub.status.idle": "2022-01-15T08:36:07.677684Z",
     "shell.execute_reply": "2022-01-15T08:36:07.677684Z"
    }
   },
   "outputs": [
    {
     "data": {
      "text/plain": [
       "[{'title': 'Hook Line and Sinker',\n",
       "  'year': 1930,\n",
       "  'rating': 6.4,\n",
       "  'directors': ['Edward F. Cline'],\n",
       "  'actors': ['Bert Wheeler', 'Robert Woolsey', 'Ralf Harolde'],\n",
       "  'genres': ['Comedy', 'Romance']},\n",
       " {'title': 'The Big Trail',\n",
       "  'year': 1930,\n",
       "  'rating': 7.2,\n",
       "  'directors': ['Raoul Walsh', 'Louis R. Loeffler'],\n",
       "  'actors': ['John Wayne', 'El Brendel', 'Tully Marshall'],\n",
       "  'genres': ['Adventure', 'Romance', 'Western']}]"
      ]
     },
     "execution_count": 1,
     "metadata": {},
     "output_type": "execute_result"
    }
   ],
   "source": [
    "#q14\n",
    "filter_movies_by_year(movies, 1930)"
   ]
  },
  {
   "cell_type": "code",
   "execution_count": 18,
   "metadata": {
    "execution": {
     "iopub.execute_input": "2022-01-15T08:36:07.681629Z",
     "iopub.status.busy": "2022-01-15T08:36:07.681629Z",
     "iopub.status.idle": "2022-01-15T08:36:07.685662Z",
     "shell.execute_reply": "2022-01-15T08:36:07.685662Z"
    }
   },
   "outputs": [
    {
     "data": {
      "text/plain": [
       "[{'title': 'Arizona',\n",
       "  'year': 1931,\n",
       "  'rating': 6.0,\n",
       "  'directors': ['George B. Seitz'],\n",
       "  'actors': ['John Wayne', 'Forrest Stanley'],\n",
       "  'genres': ['Drama', 'Romance']},\n",
       " {'title': 'City Lights',\n",
       "  'year': 1931,\n",
       "  'rating': 8.5,\n",
       "  'directors': ['Charles Chaplin'],\n",
       "  'actors': ['Charles Chaplin', 'Harry Myers'],\n",
       "  'genres': ['Comedy', 'Drama', 'Romance']},\n",
       " {'title': 'The Range Feud',\n",
       "  'year': 1931,\n",
       "  'rating': 5.8,\n",
       "  'directors': ['D. Ross Lederman'],\n",
       "  'actors': ['Buck Jones', 'John Wayne', 'Edward LeSaint'],\n",
       "  'genres': ['Mystery', 'Western']}]"
      ]
     },
     "execution_count": 1,
     "metadata": {},
     "output_type": "execute_result"
    }
   ],
   "source": [
    "#q15\n",
    "filter_movies_by_year(movies, 1931)"
   ]
  },
  {
   "cell_type": "code",
   "execution_count": 19,
   "metadata": {
    "execution": {
     "iopub.execute_input": "2022-01-15T08:36:07.689650Z",
     "iopub.status.busy": "2022-01-15T08:36:07.688652Z",
     "iopub.status.idle": "2022-01-15T08:36:07.691602Z",
     "shell.execute_reply": "2022-01-15T08:36:07.691602Z"
    }
   },
   "outputs": [],
   "source": [
    "def diff(type):\n",
    "    list1 = []\n",
    "    i = 0\n",
    "    #if type == \"genres\":\n",
    "    while i < len(movies):\n",
    "        res = movies[i][type]            #print(res)\n",
    "        for v in res:\n",
    "            list1.append(v)\n",
    "        i += 1\n",
    "        #print(list1)\n",
    "    list2 = []\n",
    "    [list2.append(i) for i in list1 if not i in list2]\n",
    "    #lst2 = list(set(list1))\n",
    "    return len(list2)"
   ]
  },
  {
   "cell_type": "code",
   "execution_count": 20,
   "metadata": {
    "execution": {
     "iopub.execute_input": "2022-01-15T08:36:07.696606Z",
     "iopub.status.busy": "2022-01-15T08:36:07.695592Z",
     "iopub.status.idle": "2022-01-15T08:36:07.699630Z",
     "shell.execute_reply": "2022-01-15T08:36:07.698584Z"
    }
   },
   "outputs": [
    {
     "data": {
      "text/plain": [
       "18"
      ]
     },
     "execution_count": 1,
     "metadata": {},
     "output_type": "execute_result"
    }
   ],
   "source": [
    "#q16\n",
    "diff(\"genres\")"
   ]
  },
  {
   "cell_type": "code",
   "execution_count": 21,
   "metadata": {
    "execution": {
     "iopub.execute_input": "2022-01-15T08:36:07.706612Z",
     "iopub.status.busy": "2022-01-15T08:36:07.705643Z",
     "iopub.status.idle": "2022-01-15T08:36:07.765529Z",
     "shell.execute_reply": "2022-01-15T08:36:07.765529Z"
    }
   },
   "outputs": [
    {
     "data": {
      "text/plain": [
       "2605"
      ]
     },
     "execution_count": 1,
     "metadata": {},
     "output_type": "execute_result"
    }
   ],
   "source": [
    "#q17\n",
    "diff(\"actors\")"
   ]
  },
  {
   "cell_type": "code",
   "execution_count": 22,
   "metadata": {
    "execution": {
     "iopub.execute_input": "2022-01-15T08:36:07.773508Z",
     "iopub.status.busy": "2022-01-15T08:36:07.772467Z",
     "iopub.status.idle": "2022-01-15T08:36:07.784199Z",
     "shell.execute_reply": "2022-01-15T08:36:07.783165Z"
    }
   },
   "outputs": [
    {
     "data": {
      "text/plain": [
       "1247"
      ]
     },
     "execution_count": 1,
     "metadata": {},
     "output_type": "execute_result"
    }
   ],
   "source": [
    "#q18\n",
    "diff(\"directors\")"
   ]
  },
  {
   "cell_type": "code",
   "execution_count": 23,
   "metadata": {
    "execution": {
     "iopub.execute_input": "2022-01-15T08:36:07.788169Z",
     "iopub.status.busy": "2022-01-15T08:36:07.787157Z",
     "iopub.status.idle": "2022-01-15T08:36:07.790148Z",
     "shell.execute_reply": "2022-01-15T08:36:07.790148Z"
    }
   },
   "outputs": [
    {
     "data": {
      "text/plain": [
       "6.401659528907912"
      ]
     },
     "execution_count": 1,
     "metadata": {},
     "output_type": "execute_result"
    }
   ],
   "source": [
    "#q19\n",
    "def averagerating():\n",
    "    average = 0.0\n",
    "    i = 0\n",
    "    while i < len(movies):\n",
    "            average += movies[i][\"rating\"]\n",
    "            i += 1\n",
    "    return average/len(movies)\n",
    "averagerating()  "
   ]
  },
  {
   "cell_type": "code",
   "execution_count": 24,
   "metadata": {
    "execution": {
     "iopub.execute_input": "2022-01-15T08:36:07.795135Z",
     "iopub.status.busy": "2022-01-15T08:36:07.794137Z",
     "iopub.status.idle": "2022-01-15T08:36:07.798139Z",
     "shell.execute_reply": "2022-01-15T08:36:07.798139Z"
    }
   },
   "outputs": [
    {
     "data": {
      "text/plain": [
       "'Dr. Strangelove or: How I Learned to Stop Worrying and Love the Bomb'"
      ]
     },
     "execution_count": 1,
     "metadata": {},
     "output_type": "execute_result"
    }
   ],
   "source": [
    "#q20\n",
    "def longestname():\n",
    "    length = 0\n",
    "    i = 0\n",
    "    while i < len(movies):\n",
    "        if length < len(movies[i][\"title\"]):\n",
    "            length =  len(movies[i][\"title\"])\n",
    "            longest =  movies[i][\"title\"]\n",
    "        i += 1\n",
    "    return longest\n",
    "longestname()"
   ]
  },
  {
   "cell_type": "code",
   "execution_count": 25,
   "metadata": {
    "execution": {
     "iopub.execute_input": "2022-01-15T08:36:07.802116Z",
     "iopub.status.busy": "2022-01-15T08:36:07.802116Z",
     "iopub.status.idle": "2022-01-15T08:36:07.804314Z",
     "shell.execute_reply": "2022-01-15T08:36:07.805360Z"
    }
   },
   "outputs": [],
   "source": [
    "test_movies = [\n",
    "{\"title\": \"A\", \"year\": 2018, \"style\": \"short\", \"genres\": [\"g1\"]},\n",
    "{\"title\": \"B\", \"year\": 2018, \"style\": \"long\",  \"genres\": [\"g2\"]},\n",
    "{\"title\": \"C\", \"year\": 2019, \"style\": \"short\", \"genres\": [\"g3\"]},\n",
    "{\"title\": \"D\", \"year\": 2019, \"style\": \"long\", \"genres\": [\"g1\", \"g2\", \"g3\"]},\n",
    "]"
   ]
  },
  {
   "cell_type": "code",
   "execution_count": 26,
   "metadata": {
    "execution": {
     "iopub.execute_input": "2022-01-15T08:36:07.809209Z",
     "iopub.status.busy": "2022-01-15T08:36:07.809209Z",
     "iopub.status.idle": "2022-01-15T08:36:07.813200Z",
     "shell.execute_reply": "2022-01-15T08:36:07.813200Z"
    }
   },
   "outputs": [],
   "source": [
    "def bucketize(movie_list, movie_key):\n",
    "    # TODO: return dict of lists of movie dicts\n",
    "    d = {}\n",
    "    for item in movie_list:\n",
    "        if movie_key == \"genres\" or movie_key == \"actors\"or movie_key == \"directors\":\n",
    "             for g_key in item[movie_key]:\n",
    "                    if (g_key in d):\n",
    "                        d[g_key].append(item)\n",
    "                    else:\n",
    "                        l = []\n",
    "                        l.append(item)\n",
    "                        d[g_key] = l\n",
    "        else:\n",
    "            keyname = movie_key\n",
    "            if(item[keyname] in d):\n",
    "                d[item[keyname]].append(item)\n",
    "            else:\n",
    "                 l = []\n",
    "                 l.append(item)\n",
    "                 d[item[keyname]] = l\n",
    "    return d\n",
    "                        \n",
    "                        \n",
    "        \n",
    "    "
   ]
  },
  {
   "cell_type": "code",
   "execution_count": 27,
   "metadata": {
    "execution": {
     "iopub.execute_input": "2022-01-15T08:36:07.817189Z",
     "iopub.status.busy": "2022-01-15T08:36:07.816243Z",
     "iopub.status.idle": "2022-01-15T08:36:07.819184Z",
     "shell.execute_reply": "2022-01-15T08:36:07.819184Z"
    }
   },
   "outputs": [
    {
     "data": {
      "text/plain": [
       "{2018: [{'title': 'A', 'year': 2018, 'style': 'short', 'genres': ['g1']},\n",
       "  {'title': 'B', 'year': 2018, 'style': 'long', 'genres': ['g2']}],\n",
       " 2019: [{'title': 'C', 'year': 2019, 'style': 'short', 'genres': ['g3']},\n",
       "  {'title': 'D', 'year': 2019, 'style': 'long', 'genres': ['g1', 'g2', 'g3']}]}"
      ]
     },
     "execution_count": 1,
     "metadata": {},
     "output_type": "execute_result"
    }
   ],
   "source": [
    "#q21\n",
    "bucketize(test_movies, \"year\")"
   ]
  },
  {
   "cell_type": "code",
   "execution_count": 28,
   "metadata": {
    "execution": {
     "iopub.execute_input": "2022-01-15T08:36:07.822218Z",
     "iopub.status.busy": "2022-01-15T08:36:07.822218Z",
     "iopub.status.idle": "2022-01-15T08:36:07.826205Z",
     "shell.execute_reply": "2022-01-15T08:36:07.825168Z"
    }
   },
   "outputs": [
    {
     "data": {
      "text/plain": [
       "{'short': [{'title': 'A', 'year': 2018, 'style': 'short', 'genres': ['g1']},\n",
       "  {'title': 'C', 'year': 2019, 'style': 'short', 'genres': ['g3']}],\n",
       " 'long': [{'title': 'B', 'year': 2018, 'style': 'long', 'genres': ['g2']},\n",
       "  {'title': 'D', 'year': 2019, 'style': 'long', 'genres': ['g1', 'g2', 'g3']}]}"
      ]
     },
     "execution_count": 1,
     "metadata": {},
     "output_type": "execute_result"
    }
   ],
   "source": [
    "#q22\n",
    "bucketize(test_movies, \"style\")"
   ]
  },
  {
   "cell_type": "code",
   "execution_count": 29,
   "metadata": {
    "execution": {
     "iopub.execute_input": "2022-01-15T08:36:07.829199Z",
     "iopub.status.busy": "2022-01-15T08:36:07.829199Z",
     "iopub.status.idle": "2022-01-15T08:36:07.831298Z",
     "shell.execute_reply": "2022-01-15T08:36:07.831298Z"
    }
   },
   "outputs": [
    {
     "data": {
      "text/plain": [
       "{'g1': [{'title': 'A', 'year': 2018, 'style': 'short', 'genres': ['g1']},\n",
       "  {'title': 'D', 'year': 2019, 'style': 'long', 'genres': ['g1', 'g2', 'g3']}],\n",
       " 'g2': [{'title': 'B', 'year': 2018, 'style': 'long', 'genres': ['g2']},\n",
       "  {'title': 'D', 'year': 2019, 'style': 'long', 'genres': ['g1', 'g2', 'g3']}],\n",
       " 'g3': [{'title': 'C', 'year': 2019, 'style': 'short', 'genres': ['g3']},\n",
       "  {'title': 'D', 'year': 2019, 'style': 'long', 'genres': ['g1', 'g2', 'g3']}]}"
      ]
     },
     "execution_count": 1,
     "metadata": {},
     "output_type": "execute_result"
    }
   ],
   "source": [
    "#q23\n",
    "bucketize(test_movies, \"genres\")"
   ]
  },
  {
   "cell_type": "code",
   "execution_count": 30,
   "metadata": {
    "execution": {
     "iopub.execute_input": "2022-01-15T08:36:07.835288Z",
     "iopub.status.busy": "2022-01-15T08:36:07.835288Z",
     "iopub.status.idle": "2022-01-15T08:36:07.837282Z",
     "shell.execute_reply": "2022-01-15T08:36:07.837282Z"
    }
   },
   "outputs": [
    {
     "data": {
      "text/plain": [
       "{'Crime': [{'title': 'Runaway Jury',\n",
       "   'year': 2003,\n",
       "   'rating': 7.1,\n",
       "   'directors': ['Gary Fleder'],\n",
       "   'actors': ['John Cusack', 'Gene Hackman', 'Dustin Hoffman'],\n",
       "   'genres': ['Crime', 'Drama', 'Thriller']},\n",
       "  {'title': 'Lethal Weapon',\n",
       "   'year': 1987,\n",
       "   'rating': 7.6,\n",
       "   'directors': ['Richard Donner'],\n",
       "   'actors': ['Mel Gibson', 'Danny Glover', 'Gary Busey', 'Mitchell Ryan'],\n",
       "   'genres': ['Action', 'Crime', 'Thriller']}],\n",
       " 'Drama': [{'title': 'Runaway Jury',\n",
       "   'year': 2003,\n",
       "   'rating': 7.1,\n",
       "   'directors': ['Gary Fleder'],\n",
       "   'actors': ['John Cusack', 'Gene Hackman', 'Dustin Hoffman'],\n",
       "   'genres': ['Crime', 'Drama', 'Thriller']}],\n",
       " 'Thriller': [{'title': 'Runaway Jury',\n",
       "   'year': 2003,\n",
       "   'rating': 7.1,\n",
       "   'directors': ['Gary Fleder'],\n",
       "   'actors': ['John Cusack', 'Gene Hackman', 'Dustin Hoffman'],\n",
       "   'genres': ['Crime', 'Drama', 'Thriller']},\n",
       "  {'title': 'Lethal Weapon',\n",
       "   'year': 1987,\n",
       "   'rating': 7.6,\n",
       "   'directors': ['Richard Donner'],\n",
       "   'actors': ['Mel Gibson', 'Danny Glover', 'Gary Busey', 'Mitchell Ryan'],\n",
       "   'genres': ['Action', 'Crime', 'Thriller']}],\n",
       " 'Action': [{'title': 'Lethal Weapon',\n",
       "   'year': 1987,\n",
       "   'rating': 7.6,\n",
       "   'directors': ['Richard Donner'],\n",
       "   'actors': ['Mel Gibson', 'Danny Glover', 'Gary Busey', 'Mitchell Ryan'],\n",
       "   'genres': ['Action', 'Crime', 'Thriller']}]}"
      ]
     },
     "execution_count": 1,
     "metadata": {},
     "output_type": "execute_result"
    }
   ],
   "source": [
    "#q24\n",
    "bucketize(small, \"genres\")"
   ]
  },
  {
   "cell_type": "code",
   "execution_count": 31,
   "metadata": {
    "execution": {
     "iopub.execute_input": "2022-01-15T08:36:07.840316Z",
     "iopub.status.busy": "2022-01-15T08:36:07.839322Z",
     "iopub.status.idle": "2022-01-15T08:36:07.843267Z",
     "shell.execute_reply": "2022-01-15T08:36:07.843267Z"
    }
   },
   "outputs": [
    {
     "data": {
      "text/plain": [
       "7"
      ]
     },
     "execution_count": 1,
     "metadata": {},
     "output_type": "execute_result"
    }
   ],
   "source": [
    "#q25\n",
    "len(bucketize(small, \"actors\"))"
   ]
  },
  {
   "cell_type": "code",
   "execution_count": 32,
   "metadata": {
    "execution": {
     "iopub.execute_input": "2022-01-15T08:36:07.847297Z",
     "iopub.status.busy": "2022-01-15T08:36:07.846302Z",
     "iopub.status.idle": "2022-01-15T08:36:07.851244Z",
     "shell.execute_reply": "2022-01-15T08:36:07.850248Z"
    }
   },
   "outputs": [
    {
     "data": {
      "text/plain": [
       "18"
      ]
     },
     "execution_count": 1,
     "metadata": {},
     "output_type": "execute_result"
    }
   ],
   "source": [
    "#q26\n",
    "len(bucketize(movies, \"genres\"))"
   ]
  },
  {
   "cell_type": "code",
   "execution_count": 33,
   "metadata": {
    "execution": {
     "iopub.execute_input": "2022-01-15T08:36:07.856271Z",
     "iopub.status.busy": "2022-01-15T08:36:07.855280Z",
     "iopub.status.idle": "2022-01-15T08:36:07.860263Z",
     "shell.execute_reply": "2022-01-15T08:36:07.859224Z"
    }
   },
   "outputs": [
    {
     "data": {
      "text/plain": [
       "{'Comedy': 485,\n",
       " 'Drama': 1094,\n",
       " 'Romance': 352,\n",
       " 'History': 73,\n",
       " 'Family': 85,\n",
       " 'Mystery': 121,\n",
       " 'Thriller': 250,\n",
       " 'Action': 299,\n",
       " 'Crime': 357,\n",
       " 'Adventure': 283,\n",
       " 'Western': 226,\n",
       " 'Music': 38,\n",
       " 'Animation': 45,\n",
       " 'Sport': 48,\n",
       " 'Fantasy': 59,\n",
       " 'War': 99,\n",
       " 'Sci-Fi': 69,\n",
       " 'Horror': 85}"
      ]
     },
     "execution_count": 1,
     "metadata": {},
     "output_type": "execute_result"
    }
   ],
   "source": [
    "#q27\n",
    "bucket = bucketize(movies, \"genres\")\n",
    "def bucketnum(bucket):\n",
    "    d = {}\n",
    "    for key in bucket:\n",
    "        value = len(bucket[key])\n",
    "        d[key] = value\n",
    "    return d\n",
    "bucketnum(bucket)"
   ]
  },
  {
   "cell_type": "code",
   "execution_count": 34,
   "metadata": {
    "execution": {
     "iopub.execute_input": "2022-01-15T08:36:07.904146Z",
     "iopub.status.busy": "2022-01-15T08:36:07.903151Z",
     "iopub.status.idle": "2022-01-15T08:36:08.065355Z",
     "shell.execute_reply": "2022-01-15T08:36:08.065355Z"
    }
   },
   "outputs": [
    {
     "data": {
      "image/png": "[encoded data removed]",
      "text/plain": [
       "<Figure size 432x288 with 1 Axes>"
      ]
     },
     "metadata": {
      "needs_background": "light"
     },
     "output_type": "display_data"
    }
   ],
   "source": [
    "#q28\n",
    "import matplotlib.pyplot as plt\n",
    "\n",
    "d = bucketnum(bucket)\n",
    "def plot(d):\n",
    "    plt.bar(d.keys(), d.values())\n",
    "    plt.xticks(rotation = 90)\n",
    "    plt.ylabel('Number of Movies')\n",
    "    plt.show()\n",
    "plot(d)"
   ]
  },
  {
   "cell_type": "code",
   "execution_count": 35,
   "metadata": {
    "execution": {
     "iopub.execute_input": "2022-01-15T08:36:08.103303Z",
     "iopub.status.busy": "2022-01-15T08:36:08.079316Z",
     "iopub.status.idle": "2022-01-15T08:36:08.275680Z",
     "shell.execute_reply": "2022-01-15T08:36:08.275680Z"
    }
   },
   "outputs": [
    {
     "data": {
      "image/png": "[encoded data removed]",
      "text/plain": [
       "<Figure size 432x288 with 1 Axes>"
      ]
     },
     "metadata": {
      "needs_background": "light"
     },
     "output_type": "display_data"
    }
   ],
   "source": [
    "#q29\n",
    "def bucketize_years(movie_list, movie_key, year_type):\n",
    "    d = {}\n",
    "    for item in movie_list:\n",
    "        if year_type == 0: #before 2000\n",
    "            for g_key in item[movie_key]:   \n",
    "                if item[\"year\"] < 2000:\n",
    "                    \n",
    "                    if (g_key in d):\n",
    "                        d[g_key].append(item)\n",
    "                    else:\n",
    "                        l = []\n",
    "                        l.append(item)\n",
    "                        d[g_key] = l\n",
    "        elif year_type == 1:\n",
    "              for g_key in item[movie_key]:\n",
    "                if item[\"year\"] >= 2000:\n",
    "                    if (g_key in d):\n",
    "                        d[g_key].append(item)\n",
    "                    else:\n",
    "                        l = []\n",
    "                        l.append(item)\n",
    "                        d[g_key] = l\n",
    "    return d\n",
    "\n",
    "bucket = bucketize_years(movies,\"genres\",0)\n",
    "d = bucketnum(bucket)\n",
    "plt.bar(d.keys(), d.values())\n",
    "plt.xticks(rotation = 90)\n",
    "plt.ylabel('Number of years before 2000')\n",
    "plt.show()\n"
   ]
  },
  {
   "cell_type": "code",
   "execution_count": 36,
   "metadata": {
    "execution": {
     "iopub.execute_input": "2022-01-15T08:36:08.318664Z",
     "iopub.status.busy": "2022-01-15T08:36:08.317667Z",
     "iopub.status.idle": "2022-01-15T08:36:08.473254Z",
     "shell.execute_reply": "2022-01-15T08:36:08.474249Z"
    }
   },
   "outputs": [
    {
     "data": {
      "image/png": "[encoded data removed]",
      "text/plain": [
       "<Figure size 432x288 with 1 Axes>"
      ]
     },
     "metadata": {
      "needs_background": "light"
     },
     "output_type": "display_data"
    }
   ],
   "source": [
    "#q30\n",
    "bucket = bucketize_years(movies,\"genres\",1)\n",
    "d = bucketnum(bucket)\n",
    "plt.bar(d.keys(), d.values())\n",
    "plt.xticks(rotation = 90)\n",
    "plt.ylabel('Number of years in or after 2000')\n",
    "plt.show()"
   ]
  },
  {
   "cell_type": "code",
   "execution_count": 37,
   "metadata": {
    "execution": {
     "iopub.execute_input": "2022-01-15T08:36:08.478198Z",
     "iopub.status.busy": "2022-01-15T08:36:08.478198Z",
     "iopub.status.idle": "2022-01-15T08:36:08.482183Z",
     "shell.execute_reply": "2022-01-15T08:36:08.482183Z"
    }
   },
   "outputs": [],
   "source": [
    "def plot_year(movie_list, movie_key):\n",
    "    d = {}\n",
    "    for item in movie_list:\n",
    "        keyname = movie_key\n",
    "        if(item[keyname] >= 2000):\n",
    "            if(str(item[keyname]) in d):\n",
    "                d[str(item[keyname])].append(item)\n",
    "            else:\n",
    "                l = []\n",
    "                l.append(item)\n",
    "                d[str(item[keyname])] = l\n",
    "    num = bucketnum(d)\n",
    "    plt.bar(num.keys(), num.values())\n",
    "    plt.ylabel('Number of years since 2000')\n",
    "    plt.xticks(rotation = 90)\n",
    "    plt.show()"
   ]
  },
  {
   "cell_type": "code",
   "execution_count": 38,
   "metadata": {
    "execution": {
     "iopub.execute_input": "2022-01-15T08:36:08.518087Z",
     "iopub.status.busy": "2022-01-15T08:36:08.518087Z",
     "iopub.status.idle": "2022-01-15T08:36:08.686682Z",
     "shell.execute_reply": "2022-01-15T08:36:08.686682Z"
    }
   },
   "outputs": [
    {
     "data": {
      "image/png": "[encoded data removed]",
      "text/plain": [
       "<Figure size 432x288 with 1 Axes>"
      ]
     },
     "metadata": {
      "needs_background": "light"
     },
     "output_type": "display_data"
    }
   ],
   "source": [
    "#q31\n",
    "plot_year(movies, \"year\")"
   ]
  },
  {
   "cell_type": "code",
   "execution_count": 39,
   "metadata": {
    "execution": {
     "iopub.execute_input": "2022-01-15T08:36:08.691636Z",
     "iopub.status.busy": "2022-01-15T08:36:08.691636Z",
     "iopub.status.idle": "2022-01-15T08:36:08.695612Z",
     "shell.execute_reply": "2022-01-15T08:36:08.695612Z"
    }
   },
   "outputs": [],
   "source": [
    "import collections\n",
    "def span(movie_key,year_span):\n",
    "    dic = {}\n",
    "    len_min = 0\n",
    "    remain = 10\n",
    "    bucket = bucketize(movies, movie_key)\n",
    "    for key in bucket:\n",
    "        first = last = 0\n",
    "        for item in bucket[key]:\n",
    "            if first == 0:\n",
    "                first = item[\"year\"]\n",
    "                last = item[\"year\"]\n",
    "            else:\n",
    "                if item[\"year\"] < first:\n",
    "                    first = item[\"year\"]\n",
    "                elif item[\"year\"] > last:\n",
    "                    last = item[\"year\"]\n",
    "        len = last - first\n",
    "        if len >= year_span:\n",
    "            dic[key] = len\n",
    "        ''' \n",
    "        if remain > 0:\n",
    "            dic[key] = len\n",
    "            if remain == 10:\n",
    "                len_min = len\n",
    "                name = key\n",
    "            if len_min > len:\n",
    "                len_min = len\n",
    "            remain -= 1\n",
    "        else:\n",
    "            if len_min < len :\n",
    "                #print(dic)\n",
    "                k = list(dic.keys())[list(dic.values()).index(len_min)]\n",
    "                #print(k)\n",
    "                del dic[k]\n",
    "               \n",
    "                dic[key] = len\n",
    "               # print(dic)\n",
    "                len_min = 1000\n",
    "                for k,v in dic.items():\n",
    "                    if len_min == 1000:\n",
    "                        len_min = v\n",
    "                    else:\n",
    "                        if v < len_min:\n",
    "                            len_min = v  \n",
    "        '''\n",
    "    #dic1 = collections.OrderedDict(sorted(dic.items(), key = lambda x:(-x[1],x[0])))\n",
    "    return dic \n",
    "        "
   ]
  },
  {
   "cell_type": "code",
   "execution_count": 40,
   "metadata": {
    "execution": {
     "iopub.execute_input": "2022-01-15T08:36:08.700654Z",
     "iopub.status.busy": "2022-01-15T08:36:08.699643Z",
     "iopub.status.idle": "2022-01-15T08:36:08.703591Z",
     "shell.execute_reply": "2022-01-15T08:36:08.703591Z"
    }
   },
   "outputs": [
    {
     "data": {
      "text/plain": [
       "{'Howard Hawks': 42,\n",
       " 'Charles Chaplin': 34,\n",
       " 'Henry Hathaway': 36,\n",
       " 'Stanley Kubrick': 46,\n",
       " 'Taylor Hackford': 32,\n",
       " 'Cecil B. DeMille': 30,\n",
       " 'Lee H. Katzin': 30,\n",
       " 'Richard Fleischer': 32,\n",
       " 'Sidney Lumet': 33,\n",
       " 'George Sherman': 33,\n",
       " 'John Huston': 30,\n",
       " 'Robert Siodmak': 30,\n",
       " 'Eldar Ryazanov': 31,\n",
       " 'Martin Ritt': 32}"
      ]
     },
     "execution_count": 1,
     "metadata": {},
     "output_type": "execute_result"
    }
   ],
   "source": [
    "#q32\n",
    "span(\"directors\",30)"
   ]
  },
  {
   "cell_type": "code",
   "execution_count": 41,
   "metadata": {
    "execution": {
     "iopub.execute_input": "2022-01-15T08:36:08.709575Z",
     "iopub.status.busy": "2022-01-15T08:36:08.709575Z",
     "iopub.status.idle": "2022-01-15T08:36:08.712567Z",
     "shell.execute_reply": "2022-01-15T08:36:08.711576Z"
    }
   },
   "outputs": [
    {
     "data": {
      "text/plain": [
       "{'Robert De Niro': 49,\n",
       " 'Kurt Russell': 50,\n",
       " 'John Wayne': 46,\n",
       " 'Mickey Rooney': 75,\n",
       " 'Robert Mitchum': 51,\n",
       " 'Henry Fonda': 46,\n",
       " 'Glenn Ford': 52,\n",
       " 'Jeff Bridges': 48,\n",
       " 'James Caan': 52,\n",
       " 'Anthony Quinn': 61,\n",
       " 'Dennis Quaid': 40,\n",
       " 'Marlon Brando': 49,\n",
       " 'Armand Assante': 40,\n",
       " 'Eddie Albert': 41,\n",
       " 'Jon Voight': 44,\n",
       " 'Tony Curtis': 45,\n",
       " 'Michael Constantine': 42,\n",
       " 'Ernest Borgnine': 47,\n",
       " 'Rod Steiger': 45,\n",
       " 'George Burns': 60,\n",
       " 'Bruce Dern': 45,\n",
       " 'Fredric March': 41,\n",
       " 'Lloyd Bridges': 44,\n",
       " 'Robert Redford': 44,\n",
       " 'Dean Stockwell': 53}"
      ]
     },
     "execution_count": 1,
     "metadata": {},
     "output_type": "execute_result"
    }
   ],
   "source": [
    "#q33\n",
    "span(\"actors\", 40)"
   ]
  },
  {
   "cell_type": "code",
   "execution_count": 42,
   "metadata": {
    "execution": {
     "iopub.execute_input": "2022-01-15T08:36:08.719589Z",
     "iopub.status.busy": "2022-01-15T08:36:08.718596Z",
     "iopub.status.idle": "2022-01-15T08:36:08.723017Z",
     "shell.execute_reply": "2022-01-15T08:36:08.721977Z"
    }
   },
   "outputs": [],
   "source": [
    "def span_num(movie_key,n):\n",
    "    dic = {}\n",
    "    len_min = 0\n",
    "    remain = n\n",
    "    bucket = bucketize(movies, movie_key)\n",
    "    for key in bucket:\n",
    "        first = last = 0\n",
    "        for item in bucket[key]:\n",
    "            if first == 0:\n",
    "                first = item[\"year\"]\n",
    "                last = item[\"year\"]\n",
    "            else:\n",
    "                if item[\"year\"] < first:\n",
    "                    first = item[\"year\"]\n",
    "                elif item[\"year\"] > last:\n",
    "                    last = item[\"year\"]\n",
    "        len = last - first\n",
    "        if remain > 0:\n",
    "            dic[key] = len\n",
    "            if remain == n:\n",
    "                len_min = len\n",
    "                name = key\n",
    "            if len_min > len:\n",
    "                len_min = len\n",
    "            remain -= 1\n",
    "        else:\n",
    "            if len_min < len :\n",
    "                #print(dic)\n",
    "                k = list(dic.keys())[list(dic.values()).index(len_min)]\n",
    "                #print(k)\n",
    "                del dic[k]\n",
    "               \n",
    "                dic[key] = len\n",
    "               # print(dic)\n",
    "                len_min = 1000\n",
    "                for k,v in dic.items():\n",
    "                    if len_min == 1000:\n",
    "                        len_min = v\n",
    "                    else:\n",
    "                        if v < len_min:\n",
    "                          len_min = v  \n",
    "        \n",
    "    #dic1 = collections.OrderedDict(sorted(dic.items(), key = lambda x:(-x[1],x[0])))\n",
    "    return dic \n",
    "\n",
    "def row_ranking(row):\n",
    "    return row[\"span\"]\n",
    "\n",
    "def top_n_span(movie_key, n):\n",
    "    # TODO: spans should be a dictionary mapping name to career span\n",
    "    spans = span_num(movie_key,n)\n",
    "    rows = []\n",
    "    for name in spans:\n",
    "        span1 = spans[name]\n",
    "        rows.append({\"name\": name, \"span\": span1})\n",
    "        \n",
    "    # we want to sort the rows so that those with the biggest spans\n",
    "    # are first.  Notice that we aren't calling row_ranking, but rather\n",
    "    # passing a reference to this function to the sort method.  The sort\n",
    "    # method uses this function to determine how to rank the rows.\n",
    "    # \n",
    "    # we do a reverse sort because we want the biggest spans first,\n",
    "    # not last\n",
    "    rows.sort(key=row_ranking, reverse=True)\n",
    "\n",
    "    return rows\n",
    "    # TODO: return a slice of the rows\n",
    "    #row_ranking(rows)\n"
   ]
  },
  {
   "cell_type": "code",
   "execution_count": 43,
   "metadata": {
    "execution": {
     "iopub.execute_input": "2022-01-15T08:36:08.727961Z",
     "iopub.status.busy": "2022-01-15T08:36:08.726963Z",
     "iopub.status.idle": "2022-01-15T08:36:08.729955Z",
     "shell.execute_reply": "2022-01-15T08:36:08.729955Z"
    }
   },
   "outputs": [
    {
     "data": {
      "text/plain": [
       "[{'name': 'Stanley Kubrick', 'span': 46},\n",
       " {'name': 'Howard Hawks', 'span': 42},\n",
       " {'name': 'Henry Hathaway', 'span': 36},\n",
       " {'name': 'Charles Chaplin', 'span': 34},\n",
       " {'name': 'Sidney Lumet', 'span': 33},\n",
       " {'name': 'George Sherman', 'span': 33},\n",
       " {'name': 'Taylor Hackford', 'span': 32},\n",
       " {'name': 'Richard Fleischer', 'span': 32},\n",
       " {'name': 'Martin Ritt', 'span': 32},\n",
       " {'name': 'Eldar Ryazanov', 'span': 31}]"
      ]
     },
     "execution_count": 1,
     "metadata": {},
     "output_type": "execute_result"
    }
   ],
   "source": [
    "#q34\n",
    "top_n_span(\"directors\", 10)"
   ]
  },
  {
   "cell_type": "code",
   "execution_count": 44,
   "metadata": {
    "execution": {
     "iopub.execute_input": "2022-01-15T08:36:08.735939Z",
     "iopub.status.busy": "2022-01-15T08:36:08.735939Z",
     "iopub.status.idle": "2022-01-15T08:36:08.739929Z",
     "shell.execute_reply": "2022-01-15T08:36:08.739929Z"
    }
   },
   "outputs": [
    {
     "data": {
      "text/plain": [
       "[{'name': 'Mickey Rooney', 'span': 75},\n",
       " {'name': 'Anthony Quinn', 'span': 61},\n",
       " {'name': 'George Burns', 'span': 60},\n",
       " {'name': 'Dean Stockwell', 'span': 53},\n",
       " {'name': 'Glenn Ford', 'span': 52},\n",
       " {'name': 'James Caan', 'span': 52},\n",
       " {'name': 'Robert Mitchum', 'span': 51},\n",
       " {'name': 'Kurt Russell', 'span': 50},\n",
       " {'name': 'Robert De Niro', 'span': 49},\n",
       " {'name': 'Marlon Brando', 'span': 49}]"
      ]
     },
     "execution_count": 1,
     "metadata": {},
     "output_type": "execute_result"
    }
   ],
   "source": [
    "#q35\n",
    "top_n_span(\"actors\", 10)"
   ]
  },
  {
   "cell_type": "code",
   "execution_count": 45,
   "metadata": {
    "execution": {
     "iopub.execute_input": "2022-01-15T08:36:08.745913Z",
     "iopub.status.busy": "2022-01-15T08:36:08.745913Z",
     "iopub.status.idle": "2022-01-15T08:36:08.749902Z",
     "shell.execute_reply": "2022-01-15T08:36:08.749902Z"
    }
   },
   "outputs": [],
   "source": [
    "def best_rating(movie_key, n):\n",
    "    dic = {}\n",
    "    bucket = bucketize(movies, movie_key)\n",
    "    for key in bucket:\n",
    "        data = []\n",
    "        count = 0\n",
    "        for item in bucket[key]:\n",
    "            data.append(item[\"rating\"])\n",
    "        count = len(data)\n",
    "        data.sort()\n",
    "        half = len(data) // 2\n",
    "        median = (data[half] + data[~half])/2\n",
    "        dic[key]  = [median, count]\n",
    "    remain = 0\n",
    "    len_dic = len(dic)\n",
    "    dic1 = {}\n",
    "    while remain < n:\n",
    "        list_max = 0\n",
    "        i = 0\n",
    "        for k,v in dic.items():\n",
    "            if i == 0:\n",
    "                list_max = v\n",
    "                name = k\n",
    "                i = 1\n",
    "            else:\n",
    "                if(list_max[0] < v[0]):\n",
    "                    list_max = v\n",
    "                    name = k\n",
    "        dic1[name] = list_max\n",
    "        del dic[name]\n",
    "        remain += 1\n",
    "    return dic1\n",
    "\n",
    "def top_n_span2(movie_key, n):\n",
    "    # TODO: spans should be a dictionary mapping name to career span\n",
    "    spans = best_rating(movie_key,n)\n",
    "    rows = []\n",
    "    for name in spans:\n",
    "        rating_ = spans[name][0]\n",
    "        count_ = spans[name][1]\n",
    "        rows.append({\"category\": name, \"rating\": rating_, \"count\": count_})\n",
    "\n",
    "    return rows"
   ]
  },
  {
   "cell_type": "code",
   "execution_count": 46,
   "metadata": {
    "execution": {
     "iopub.execute_input": "2022-01-15T08:36:08.754889Z",
     "iopub.status.busy": "2022-01-15T08:36:08.754889Z",
     "iopub.status.idle": "2022-01-15T08:36:08.756883Z",
     "shell.execute_reply": "2022-01-15T08:36:08.756883Z"
    }
   },
   "outputs": [
    {
     "data": {
      "text/plain": [
       "[{'category': 'Animation', 'rating': 7.3, 'count': 45},\n",
       " {'category': 'History', 'rating': 6.7, 'count': 73},\n",
       " {'category': 'War', 'rating': 6.7, 'count': 99}]"
      ]
     },
     "execution_count": 1,
     "metadata": {},
     "output_type": "execute_result"
    }
   ],
   "source": [
    "#q36\n",
    "top_n_span2(\"genres\", 3)"
   ]
  },
  {
   "cell_type": "code",
   "execution_count": 47,
   "metadata": {
    "execution": {
     "iopub.execute_input": "2022-01-15T08:36:08.761870Z",
     "iopub.status.busy": "2022-01-15T08:36:08.760872Z",
     "iopub.status.idle": "2022-01-15T08:36:08.763865Z",
     "shell.execute_reply": "2022-01-15T08:36:08.763865Z"
    }
   },
   "outputs": [
    {
     "data": {
      "text/plain": [
       "[{'category': 1921, 'rating': 8.3, 'count': 1},\n",
       " {'category': 1925, 'rating': 8.2, 'count': 1},\n",
       " {'category': 1919, 'rating': 7.5, 'count': 1},\n",
       " {'category': 1923, 'rating': 7.3, 'count': 2},\n",
       " {'category': 1962, 'rating': 7.2, 'count': 17},\n",
       " {'category': 1964, 'rating': 7.1, 'count': 19},\n",
       " {'category': 1957, 'rating': 7.0, 'count': 24},\n",
       " {'category': 1985, 'rating': 7.0, 'count': 17},\n",
       " {'category': 1976, 'rating': 7.0, 'count': 17},\n",
       " {'category': 1963, 'rating': 6.95, 'count': 10}]"
      ]
     },
     "execution_count": 1,
     "metadata": {},
     "output_type": "execute_result"
    }
   ],
   "source": [
    "#q37\n",
    "top_n_span2(\"year\", 10)"
   ]
  },
  {
   "cell_type": "code",
   "execution_count": 48,
   "metadata": {
    "execution": {
     "iopub.execute_input": "2022-01-15T08:36:08.770846Z",
     "iopub.status.busy": "2022-01-15T08:36:08.765859Z",
     "iopub.status.idle": "2022-01-15T08:36:08.772841Z",
     "shell.execute_reply": "2022-01-15T08:36:08.772841Z"
    }
   },
   "outputs": [],
   "source": [
    "def best_rating_num(movie_key, n, num):\n",
    "    dic = {}\n",
    "    bucket = bucketize(movies, movie_key)\n",
    "    for key in bucket:\n",
    "        data = []\n",
    "        count = 0\n",
    "        for item in bucket[key]:\n",
    "            data.append(item[\"rating\"])\n",
    "        count = len(data)\n",
    "        data.sort()\n",
    "        half = len(data) // 2\n",
    "        median = (data[half] + data[~half])/2\n",
    "        if count >= num:\n",
    "            dic[key]  = [median, count]\n",
    "    remain = 0\n",
    "    len_dic = len(dic)\n",
    "    dic1 = {}\n",
    "    while remain < n:\n",
    "        list_max = 0\n",
    "        i = 0\n",
    "        for k,v in dic.items():\n",
    "            if i == 0:\n",
    "                list_max = v\n",
    "                name = k\n",
    "                i = 1\n",
    "            else:\n",
    "                if(list_max[0] < v[0]):\n",
    "                    list_max = v\n",
    "                    name = k\n",
    "        dic1[name] = list_max\n",
    "        del dic[name]\n",
    "        remain += 1\n",
    "    return dic1\n",
    "\n",
    "def top_n_span3(movie_key, n, num):\n",
    "    # TODO: spans should be a dictionary mapping name to career span\n",
    "    spans = best_rating_num(movie_key,n, num)\n",
    "    rows = []\n",
    "    for name in spans:\n",
    "        rating_ = spans[name][0]\n",
    "        count_ = spans[name][1]\n",
    "        rows.append({\"category\": name, \"rating\": rating_, \"count\": count_})\n",
    "\n",
    "    return rows\n"
   ]
  },
  {
   "cell_type": "code",
   "execution_count": 49,
   "metadata": {
    "execution": {
     "iopub.execute_input": "2022-01-15T08:36:08.777827Z",
     "iopub.status.busy": "2022-01-15T08:36:08.776830Z",
     "iopub.status.idle": "2022-01-15T08:36:08.780820Z",
     "shell.execute_reply": "2022-01-15T08:36:08.780820Z"
    }
   },
   "outputs": [
    {
     "data": {
      "text/plain": [
       "[{'category': 1962, 'rating': 7.2, 'count': 17},\n",
       " {'category': 1964, 'rating': 7.1, 'count': 19},\n",
       " {'category': 1957, 'rating': 7.0, 'count': 24},\n",
       " {'category': 1985, 'rating': 7.0, 'count': 17},\n",
       " {'category': 1976, 'rating': 7.0, 'count': 17}]"
      ]
     },
     "execution_count": 1,
     "metadata": {},
     "output_type": "execute_result"
    }
   ],
   "source": [
    "#q38\n",
    "top_n_span3(\"year\", 5, 10)"
   ]
  },
  {
   "cell_type": "code",
   "execution_count": 50,
   "metadata": {
    "execution": {
     "iopub.execute_input": "2022-01-15T08:36:08.786804Z",
     "iopub.status.busy": "2022-01-15T08:36:08.785806Z",
     "iopub.status.idle": "2022-01-15T08:36:08.791824Z",
     "shell.execute_reply": "2022-01-15T08:36:08.790794Z"
    }
   },
   "outputs": [
    {
     "data": {
      "text/plain": [
       "[{'category': 'Christopher Nolan', 'rating': 8.5, 'count': 9},\n",
       " {'category': 'Leonid Gayday', 'rating': 8.4, 'count': 5},\n",
       " {'category': 'Stanley Kubrick', 'rating': 8.3, 'count': 11},\n",
       " {'category': 'Sergio Leone', 'rating': 8.3, 'count': 7},\n",
       " {'category': 'Satyajit Ray', 'rating': 8.2, 'count': 9},\n",
       " {'category': 'Andrew Grieve', 'rating': 8.2, 'count': 6}]"
      ]
     },
     "execution_count": 1,
     "metadata": {},
     "output_type": "execute_result"
    }
   ],
   "source": [
    "#q39\n",
    "top_n_span3(\"directors\", 6, 3)"
   ]
  },
  {
   "cell_type": "code",
   "execution_count": 51,
   "metadata": {
    "execution": {
     "iopub.execute_input": "2022-01-15T08:36:08.797774Z",
     "iopub.status.busy": "2022-01-15T08:36:08.797774Z",
     "iopub.status.idle": "2022-01-15T08:36:08.802804Z",
     "shell.execute_reply": "2022-01-15T08:36:08.801764Z"
    }
   },
   "outputs": [
    {
     "data": {
      "text/plain": [
       "[{'category': 'Henry Bergman', 'rating': 8.2, 'count': 5},\n",
       " {'category': 'Ioan Gruffudd', 'rating': 8.2, 'count': 6},\n",
       " {'category': 'Robert Lindsay', 'rating': 8.2, 'count': 6}]"
      ]
     },
     "execution_count": 1,
     "metadata": {},
     "output_type": "execute_result"
    }
   ],
   "source": [
    "#q40\n",
    "top_n_span3(\"actors\", 3, 5)"
   ]
  },
  {
   "cell_type": "code",
   "execution_count": null,
   "metadata": {},
   "outputs": [],
   "source": []
  }
 ],
 "metadata": {
  "kernelspec": {
   "display_name": "Python 3",
   "language": "python",
   "name": "python3"
  },
  "language_info": {
   "codemirror_mode": {
    "name": "ipython",
    "version": 3
   },
   "file_extension": ".py",
   "mimetype": "text/x-python",
   "name": "python",
   "nbconvert_exporter": "python",
   "pygments_lexer": "ipython3",
   "version": "3.8.5"
  }
 },
 "nbformat": 4,
 "nbformat_minor": 4
}
